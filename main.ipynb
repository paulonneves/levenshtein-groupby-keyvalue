{
  "cells": [
    {
      "cell_type": "markdown",
      "metadata": {
        "id": "kL0k-hCAfWjI"
      },
      "source": [
        "# Usando a Distância Levenshtein para correção de valores na base de dados\n",
        "  "
      ]
    },
    {
      "cell_type": "markdown",
      "metadata": {
        "id": "AU9J8SgWgHjm"
      },
      "source": [
        "<img style=\"width: 300px\" src=\"https://images.unsplash.com/photo-1535745122259-f1e187953c4c?ixlib=rb-1.2.1&ixid=MnwxMjA3fDB8MHxzZWFyY2h8OHx8ZGlzdGFuY2V8ZW58MHwwfDB8fA%3D%3D&auto=format&fit=crop&w=500&q=60\" />\n",
        "\n",
        "Photo by <a href=\"https://unsplash.com/@mrbrunowolff?utm_source=unsplash&utm_medium=referral&utm_content=creditCopyText\">Bruno Wolff</a> on <a href=\"https://unsplash.com/s/photos/distance?utm_source=unsplash&utm_medium=referral&utm_content=creditCopyText\">Unsplash</a>\n",
        "  "
      ]
    },
    {
      "cell_type": "markdown",
      "metadata": {
        "id": "HPp2ou63hxfO"
      },
      "source": [
        "Uma das fases mais comuns e custosas da analise de dados é a correção de tabelas de dados com erros de inserção, que leva muitas vezes o trabalho tedioso de substituir cada ocorrência. \n",
        "\n",
        "Sabe-se que a distância de Levenshtein (edição) é uma métrica bastante usada para medir similaridade entre cadeias de caracteres e pode ser usada para diversos problemas como correção ortográfica e agrupamentos.\n",
        "\n",
        "Aqui construi uma forma simples de aplicar a medida ao problema citado acima."
      ]
    },
    {
      "cell_type": "code",
      "execution_count": null,
      "metadata": {},
      "outputs": [],
      "source": [
        "!pip install editdistance pandas"
      ]
    },
    {
      "cell_type": "code",
      "execution_count": 5,
      "metadata": {
        "id": "FD9B6bc2OQ3d"
      },
      "outputs": [],
      "source": [
        "import editdistance\n",
        "import pandas as pd"
      ]
    },
    {
      "cell_type": "code",
      "execution_count": 7,
      "metadata": {
        "id": "80FixVlgVjSm"
      },
      "outputs": [],
      "source": [
        "def groupby_min_edit_distance(fact_values: list, \n",
        "                             dim_keys: list, \n",
        "                             fact_value_label: str=\"value\",\n",
        "                             dim_key_label: str=\"key\",\n",
        "                             abbreviation=False):\n",
        "  edit_distance_collection = list()\n",
        "\n",
        "\n",
        "  for value in fact_values:\n",
        "    cross_merge = [{fact_value_label: value, \n",
        "                    dim_key_label: key, \n",
        "                    \"distance\": editdistance.eval(value, key)} \n",
        "                   for key in keys]\n",
        "    min_item = min(cross_merge, key=lambda x: x[\"distance\"])\n",
        "    edit_distance_collection.append(min_item)\n",
        "  return edit_distance_collection"
      ]
    },
    {
      "cell_type": "markdown",
      "metadata": {
        "id": "aSK21MSxjceK"
      },
      "source": [
        "### Caso de uso: Estados "
      ]
    },
    {
      "cell_type": "markdown",
      "metadata": {
        "id": "WJqAowgFj9Vy"
      },
      "source": [
        "Para usar a função basta apenas preencher os parâmetros, sendo que **values** se refere aos valores que desejam ser corrigidos e **keys** a lista dos valores corretos (Na prática recebemos os **values** e especificamos apenas as **keys**) "
      ]
    },
    {
      "cell_type": "code",
      "execution_count": 9,
      "metadata": {
        "colab": {
          "base_uri": "https://localhost:8080/",
          "height": 206
        },
        "id": "HFBo_9suF2XM",
        "outputId": "c8ea1896-2862-4164-d799-3509dcb6324d"
      },
      "outputs": [
        {
          "data": {
            "text/html": [
              "<div>\n",
              "<style scoped>\n",
              "    .dataframe tbody tr th:only-of-type {\n",
              "        vertical-align: middle;\n",
              "    }\n",
              "\n",
              "    .dataframe tbody tr th {\n",
              "        vertical-align: top;\n",
              "    }\n",
              "\n",
              "    .dataframe thead th {\n",
              "        text-align: right;\n",
              "    }\n",
              "</style>\n",
              "<table border=\"1\" class=\"dataframe\">\n",
              "  <thead>\n",
              "    <tr style=\"text-align: right;\">\n",
              "      <th></th>\n",
              "      <th>Estados</th>\n",
              "      <th>Correção</th>\n",
              "      <th>distance</th>\n",
              "    </tr>\n",
              "  </thead>\n",
              "  <tbody>\n",
              "    <tr>\n",
              "      <th>0</th>\n",
              "      <td>sao paulo</td>\n",
              "      <td>São Paulo</td>\n",
              "      <td>3</td>\n",
              "    </tr>\n",
              "    <tr>\n",
              "      <th>1</th>\n",
              "      <td>Sao Paulo</td>\n",
              "      <td>São Paulo</td>\n",
              "      <td>1</td>\n",
              "    </tr>\n",
              "    <tr>\n",
              "      <th>2</th>\n",
              "      <td>Bahia</td>\n",
              "      <td>Bahia</td>\n",
              "      <td>0</td>\n",
              "    </tr>\n",
              "    <tr>\n",
              "      <th>3</th>\n",
              "      <td>Bahea</td>\n",
              "      <td>Bahia</td>\n",
              "      <td>1</td>\n",
              "    </tr>\n",
              "    <tr>\n",
              "      <th>4</th>\n",
              "      <td>Paraibama</td>\n",
              "      <td>Paraíba</td>\n",
              "      <td>3</td>\n",
              "    </tr>\n",
              "  </tbody>\n",
              "</table>\n",
              "</div>"
            ],
            "text/plain": [
              "     Estados   Correção  distance\n",
              "0  sao paulo  São Paulo         3\n",
              "1  Sao Paulo  São Paulo         1\n",
              "2      Bahia      Bahia         0\n",
              "3      Bahea      Bahia         1\n",
              "4  Paraibama    Paraíba         3"
            ]
          },
          "execution_count": 9,
          "metadata": {},
          "output_type": "execute_result"
        }
      ],
      "source": [
        "values = [\"sao paulo\", \"Sao Paulo\", \"Bahia\", \"Bahea\", \"Paraibama\"]\n",
        "keys = [\"São Paulo\", \"Bahia\", \"Minas Gerais\", \"Paraíba\"]\n",
        "reduce_states = groupby_min_edit_distance(fact_values=values, \n",
        "                         dim_keys=keys,\n",
        "                         fact_value_label=\"Estados\",\n",
        "                         dim_key_label=\"Correção\")\n",
        "states = pd.json_normalize(reduce_states)\n",
        "states.head()"
      ]
    },
    {
      "cell_type": "markdown",
      "metadata": {
        "id": "Afl2Ti8Djs7M"
      },
      "source": [
        "### Caso de uso: Turnos"
      ]
    },
    {
      "cell_type": "code",
      "execution_count": 10,
      "metadata": {
        "colab": {
          "base_uri": "https://localhost:8080/",
          "height": 206
        },
        "id": "_4T_7q9MZCoy",
        "outputId": "9fc76c2f-08e8-4591-a7aa-51af59e9de99"
      },
      "outputs": [
        {
          "data": {
            "text/html": [
              "<div>\n",
              "<style scoped>\n",
              "    .dataframe tbody tr th:only-of-type {\n",
              "        vertical-align: middle;\n",
              "    }\n",
              "\n",
              "    .dataframe tbody tr th {\n",
              "        vertical-align: top;\n",
              "    }\n",
              "\n",
              "    .dataframe thead th {\n",
              "        text-align: right;\n",
              "    }\n",
              "</style>\n",
              "<table border=\"1\" class=\"dataframe\">\n",
              "  <thead>\n",
              "    <tr style=\"text-align: right;\">\n",
              "      <th></th>\n",
              "      <th>Turnos</th>\n",
              "      <th>Correção</th>\n",
              "      <th>distance</th>\n",
              "    </tr>\n",
              "  </thead>\n",
              "  <tbody>\n",
              "    <tr>\n",
              "      <th>0</th>\n",
              "      <td>Vespertino</td>\n",
              "      <td>Vespertino</td>\n",
              "      <td>0</td>\n",
              "    </tr>\n",
              "    <tr>\n",
              "      <th>1</th>\n",
              "      <td>Matutino</td>\n",
              "      <td>Matutino</td>\n",
              "      <td>0</td>\n",
              "    </tr>\n",
              "    <tr>\n",
              "      <th>2</th>\n",
              "      <td>Norturno.</td>\n",
              "      <td>Noturno</td>\n",
              "      <td>2</td>\n",
              "    </tr>\n",
              "    <tr>\n",
              "      <th>3</th>\n",
              "      <td>notuno</td>\n",
              "      <td>Noturno</td>\n",
              "      <td>2</td>\n",
              "    </tr>\n",
              "    <tr>\n",
              "      <th>4</th>\n",
              "      <td>Natutino</td>\n",
              "      <td>Matutino</td>\n",
              "      <td>1</td>\n",
              "    </tr>\n",
              "  </tbody>\n",
              "</table>\n",
              "</div>"
            ],
            "text/plain": [
              "       Turnos    Correção  distance\n",
              "0  Vespertino  Vespertino         0\n",
              "1    Matutino    Matutino         0\n",
              "2   Norturno.     Noturno         2\n",
              "3      notuno     Noturno         2\n",
              "4    Natutino    Matutino         1"
            ]
          },
          "execution_count": 10,
          "metadata": {},
          "output_type": "execute_result"
        }
      ],
      "source": [
        "values = [\"Vespertino\", \"Matutino\", \"Norturno.\", \"notuno\", 'Natutino', \"vespertino\", \"Vespetino\"]\n",
        "keys = [\"Matutino\", \"Vespertino\", \"Noturno\"]\n",
        "reduce_turn = groupby_min_edit_distance(fact_values=values, \n",
        "                         dim_keys=keys,\n",
        "                         fact_value_label=\"Turnos\",\n",
        "                         dim_key_label=\"Correção\")\n",
        "turn = pd.json_normalize(reduce_turn)\n",
        "turn.head()"
      ]
    },
    {
      "cell_type": "markdown",
      "metadata": {
        "id": "Fr0AK9VHjzY2"
      },
      "source": [
        "### Caso de uso: Cidades"
      ]
    },
    {
      "cell_type": "code",
      "execution_count": 11,
      "metadata": {
        "colab": {
          "base_uri": "https://localhost:8080/",
          "height": 206
        },
        "id": "hX6XRfC-dTrm",
        "outputId": "b3e2bc89-e701-44a6-b503-0e92d4e92843"
      },
      "outputs": [
        {
          "data": {
            "text/html": [
              "<div>\n",
              "<style scoped>\n",
              "    .dataframe tbody tr th:only-of-type {\n",
              "        vertical-align: middle;\n",
              "    }\n",
              "\n",
              "    .dataframe tbody tr th {\n",
              "        vertical-align: top;\n",
              "    }\n",
              "\n",
              "    .dataframe thead th {\n",
              "        text-align: right;\n",
              "    }\n",
              "</style>\n",
              "<table border=\"1\" class=\"dataframe\">\n",
              "  <thead>\n",
              "    <tr style=\"text-align: right;\">\n",
              "      <th></th>\n",
              "      <th>Cidades</th>\n",
              "      <th>Correção</th>\n",
              "      <th>distance</th>\n",
              "    </tr>\n",
              "  </thead>\n",
              "  <tbody>\n",
              "    <tr>\n",
              "      <th>0</th>\n",
              "      <td>Phila</td>\n",
              "      <td>Philadelphia</td>\n",
              "      <td>7</td>\n",
              "    </tr>\n",
              "    <tr>\n",
              "      <th>1</th>\n",
              "      <td>Philly</td>\n",
              "      <td>Philadelphia</td>\n",
              "      <td>7</td>\n",
              "    </tr>\n",
              "    <tr>\n",
              "      <th>2</th>\n",
              "      <td>Philadelphia</td>\n",
              "      <td>Philadelphia</td>\n",
              "      <td>0</td>\n",
              "    </tr>\n",
              "    <tr>\n",
              "      <th>3</th>\n",
              "      <td>Philadelphia.</td>\n",
              "      <td>Philadelphia</td>\n",
              "      <td>1</td>\n",
              "    </tr>\n",
              "    <tr>\n",
              "      <th>4</th>\n",
              "      <td>Pittsburgh</td>\n",
              "      <td>Pittsburgh</td>\n",
              "      <td>0</td>\n",
              "    </tr>\n",
              "  </tbody>\n",
              "</table>\n",
              "</div>"
            ],
            "text/plain": [
              "         Cidades      Correção  distance\n",
              "0          Phila  Philadelphia         7\n",
              "1         Philly  Philadelphia         7\n",
              "2   Philadelphia  Philadelphia         0\n",
              "3  Philadelphia.  Philadelphia         1\n",
              "4     Pittsburgh    Pittsburgh         0"
            ]
          },
          "execution_count": 11,
          "metadata": {},
          "output_type": "execute_result"
        }
      ],
      "source": [
        "values = [\n",
        "    \"Phila\",\n",
        "    \"Philly\",\n",
        "    \"Philadelphia\",\n",
        "    \"Philadelphia.\",\n",
        "    \"Pittsburgh\",\n",
        "]\n",
        "\n",
        "keys = [\"Philadelphia\", \"Pittsburgh\"]\n",
        "reduce_city = groupby_min_edit_distance(fact_values=values, \n",
        "                         dim_keys=keys,\n",
        "                         fact_value_label=\"Cidades\",\n",
        "                         dim_key_label=\"Correção\")\n",
        "city = pd.json_normalize(reduce_city)\n",
        "city.head()"
      ]
    }
  ],
  "metadata": {
    "colab": {
      "provenance": []
    },
    "kernelspec": {
      "display_name": "Python 3.10.1 64-bit",
      "language": "python",
      "name": "python3"
    },
    "language_info": {
      "codemirror_mode": {
        "name": "ipython",
        "version": 3
      },
      "file_extension": ".py",
      "mimetype": "text/x-python",
      "name": "python",
      "nbconvert_exporter": "python",
      "pygments_lexer": "ipython3",
      "version": "3.10.1"
    },
    "vscode": {
      "interpreter": {
        "hash": "46d3a509ebf4023799f1f8a2caaf6b7cae8bcbe16e63b5a1395d02fd37920bd6"
      }
    }
  },
  "nbformat": 4,
  "nbformat_minor": 0
}
